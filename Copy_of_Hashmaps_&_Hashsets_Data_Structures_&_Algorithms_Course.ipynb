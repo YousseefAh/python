{
  "nbformat": 4,
  "nbformat_minor": 0,
  "metadata": {
    "colab": {
      "provenance": []
    },
    "kernelspec": {
      "name": "python3",
      "display_name": "Python 3"
    },
    "language_info": {
      "name": "python"
    }
  },
  "cells": [
    {
      "cell_type": "code",
      "execution_count": null,
      "metadata": {
        "colab": {
          "base_uri": "https://localhost:8080/"
        },
        "id": "xIrDzGEC9IDx",
        "outputId": "91d3fc8c-3c0d-4ddf-c566-bfa14e9c05db"
      },
      "outputs": [
        {
          "output_type": "stream",
          "name": "stdout",
          "text": [
            "{'hi', 23}\n"
          ]
        }
      ],
      "source": [
        "# Hashsets\n",
        "\n",
        "s = set()\n",
        "s.add(\"hi\")\n",
        "s.add (23)\n",
        "print(s)\n"
      ]
    },
    {
      "cell_type": "code",
      "source": [
        "# Add item into Set - O(1)\n",
        "s.add(1)\n",
        "s.add(2)\n",
        "s.add(3)\n",
        "\n",
        "print(s)"
      ],
      "metadata": {
        "colab": {
          "base_uri": "https://localhost:8080/"
        },
        "id": "67nPv_Ka98eu",
        "outputId": "cf387f83-c0a3-4d15-82bc-d59ea56ff275"
      },
      "execution_count": null,
      "outputs": [
        {
          "output_type": "stream",
          "name": "stdout",
          "text": [
            "{1, 2, 3}\n"
          ]
        }
      ]
    },
    {
      "cell_type": "code",
      "source": [
        "# Lookup if item in set - O(1)\n",
        "if 1 not in s:\n",
        "  print(True)"
      ],
      "metadata": {
        "id": "YG4iR3ig-K5Q"
      },
      "execution_count": null,
      "outputs": []
    },
    {
      "cell_type": "code",
      "source": [
        "# Remove item from set - O(1)\n",
        "s.remove(3)\n",
        "\n",
        "print(s)"
      ],
      "metadata": {
        "colab": {
          "base_uri": "https://localhost:8080/"
        },
        "id": "JQSMRLA0-fEp",
        "outputId": "331abf70-aa8c-4704-a941-9a279d18239b"
      },
      "execution_count": null,
      "outputs": [
        {
          "output_type": "stream",
          "name": "stdout",
          "text": [
            "{1, 2}\n"
          ]
        }
      ]
    },
    {
      "cell_type": "code",
      "source": [
        "# Set construction - O(S) - S is the length of the string\n",
        "string = 'aaaaaaabbbbbbbbbbbccccccccceeeeeeeee'\n",
        "sett = set(string)\n",
        "\n",
        "sett"
      ],
      "metadata": {
        "colab": {
          "base_uri": "https://localhost:8080/"
        },
        "id": "RkxoAEjU-sYJ",
        "outputId": "258ff0ff-347f-428c-c5e3-c259a3b12f2e"
      },
      "execution_count": null,
      "outputs": [
        {
          "output_type": "execute_result",
          "data": {
            "text/plain": [
              "{'a', 'b', 'c', 'e'}"
            ]
          },
          "metadata": {},
          "execution_count": 10
        }
      ]
    },
    {
      "cell_type": "code",
      "source": [
        "# Loop over items in set - O(n)\n",
        "for x in s:\n",
        "  print(x)"
      ],
      "metadata": {
        "colab": {
          "base_uri": "https://localhost:8080/"
        },
        "id": "VSOIxmqk_WTV",
        "outputId": "d6224e95-ed7f-4e86-c2fd-baf84993eea9"
      },
      "execution_count": null,
      "outputs": [
        {
          "output_type": "stream",
          "name": "stdout",
          "text": [
            "1\n",
            "2\n"
          ]
        }
      ]
    },
    {
      "cell_type": "code",
      "source": [
        "# Hashmaps - Dictionaries\n",
        "\n",
        "d = {'greg': 1, 'steve': 2, 'rob': 3}\n",
        "\n",
        "print(d)"
      ],
      "metadata": {
        "colab": {
          "base_uri": "https://localhost:8080/"
        },
        "id": "Qa4O32ah_wPv",
        "outputId": "316fd74f-29ee-4137-c907-7fd9967daa0e"
      },
      "execution_count": null,
      "outputs": [
        {
          "output_type": "stream",
          "name": "stdout",
          "text": [
            "{'greg': 1, 'steve': 2, 'rob': 3}\n"
          ]
        }
      ]
    },
    {
      "cell_type": "code",
      "source": [
        "# Add key:val in dictionary: O(1)\n",
        "d['arsh'] = 4\n",
        "\n",
        "print(d)"
      ],
      "metadata": {
        "colab": {
          "base_uri": "https://localhost:8080/"
        },
        "id": "Qt1ltzeMAPkz",
        "outputId": "62ca9aa4-db66-407c-ff0f-7bb034d23553"
      },
      "execution_count": null,
      "outputs": [
        {
          "output_type": "stream",
          "name": "stdout",
          "text": [
            "{'greg': 1, 'steve': 2, 'rob': 3, 'arsh': 4}\n"
          ]
        }
      ]
    },
    {
      "cell_type": "code",
      "source": [
        "# Check for presence of key in dictionary: O(1)\n",
        "if 'greg' in d:\n",
        "  print(True)"
      ],
      "metadata": {
        "colab": {
          "base_uri": "https://localhost:8080/"
        },
        "id": "6DA5u-jKAXjh",
        "outputId": "82a57342-0a19-413a-9c51-2717bf14f0db"
      },
      "execution_count": null,
      "outputs": [
        {
          "output_type": "stream",
          "name": "stdout",
          "text": [
            "True\n"
          ]
        }
      ]
    },
    {
      "cell_type": "code",
      "source": [
        "# Check the value corresponding to a key in the dictionary: O(1)\n",
        "print(d['greg'])"
      ],
      "metadata": {
        "colab": {
          "base_uri": "https://localhost:8080/"
        },
        "id": "c94jF_iZAfpA",
        "outputId": "e1f5d47a-6445-4ce7-e726-d679c73c5370"
      },
      "execution_count": null,
      "outputs": [
        {
          "output_type": "stream",
          "name": "stdout",
          "text": [
            "1\n"
          ]
        }
      ]
    },
    {
      "cell_type": "code",
      "source": [
        "# Loop over the key:val pairs of the dictionary: O(n)\n",
        "for key, val in d.items():\n",
        "  print(f'key {key}: val {val}')"
      ],
      "metadata": {
        "colab": {
          "base_uri": "https://localhost:8080/"
        },
        "id": "N-X5FGK3At08",
        "outputId": "9f77df1d-1d08-4cd2-f463-757318686324"
      },
      "execution_count": null,
      "outputs": [
        {
          "output_type": "stream",
          "name": "stdout",
          "text": [
            "key greg: val 1\n",
            "key steve: val 2\n",
            "key rob: val 3\n",
            "key arsh: val 4\n"
          ]
        }
      ]
    },
    {
      "cell_type": "code",
      "source": [
        "# Defaultdict\n",
        "\n",
        "from collections import defaultdict\n",
        "\n",
        "default = defaultdict(list)\n",
        "\n",
        "default[2]"
      ],
      "metadata": {
        "colab": {
          "base_uri": "https://localhost:8080/"
        },
        "id": "b0aVRGmnBSta",
        "outputId": "314ec3aa-3135-4769-ea83-fe2af5dba355"
      },
      "execution_count": null,
      "outputs": [
        {
          "output_type": "execute_result",
          "data": {
            "text/plain": [
              "[]"
            ]
          },
          "metadata": {},
          "execution_count": 26
        }
      ]
    },
    {
      "cell_type": "code",
      "source": [
        "default"
      ],
      "metadata": {
        "colab": {
          "base_uri": "https://localhost:8080/"
        },
        "id": "tYWsT4UBB2wX",
        "outputId": "64a00662-4c99-42b2-e419-ce5afb28806f"
      },
      "execution_count": null,
      "outputs": [
        {
          "output_type": "execute_result",
          "data": {
            "text/plain": [
              "defaultdict(list, {2: []})"
            ]
          },
          "metadata": {},
          "execution_count": 27
        }
      ]
    },
    {
      "cell_type": "code",
      "source": [
        "# Counter\n",
        "from collections import Counter\n",
        "\n",
        "counter = Counter(string)\n",
        "\n",
        "print(counter)"
      ],
      "metadata": {
        "colab": {
          "base_uri": "https://localhost:8080/"
        },
        "id": "p_oTXElwB89U",
        "outputId": "de692dc0-5a4a-4874-b380-9c0ab2c5ee3e"
      },
      "execution_count": null,
      "outputs": [
        {
          "output_type": "stream",
          "name": "stdout",
          "text": [
            "Counter({'b': 11, 'c': 9, 'e': 9, 'a': 7})\n"
          ]
        }
      ]
    },
    {
      "cell_type": "markdown",
      "source": [
        "# that is summery for all is up there"
      ],
      "metadata": {
        "id": "WL4zQpFcsmon"
      }
    },
    {
      "source": [
        "# Create a hashset\n",
        "my_set = set()\n",
        "\n",
        "# Add elements\n",
        "my_set.add(\"apple\")\n",
        "my_set.add(\"banana\")\n",
        "my_set.add(\"cherry\")\n",
        "\n",
        "# Check for membership\n",
        "if \"banana\" in my_set:\n",
        "  print(\"Banana is in the set\")\n",
        "\n",
        "# Remove an element\n",
        "my_set.remove(\"banana\")\n",
        "\n",
        "# Iterate over the set\n",
        "for item in my_set:\n",
        "  print(item)"
      ],
      "cell_type": "code",
      "metadata": {
        "id": "eIRPwZUMsdPh"
      },
      "execution_count": null,
      "outputs": []
    },
    {
      "source": [
        "# Create a hashmap\n",
        "my_dict = {\"name\": \"Alice\", \"age\": 30, \"city\": \"New York\"}\n",
        "\n",
        "# Access values using keys\n",
        "print(my_dict[\"name\"])  # Output: Alice\n",
        "\n",
        "# Add a new key-value pair\n",
        "my_dict[\"occupation\"] = \"Engineer\"\n",
        "\n",
        "# Update an existing value\n",
        "my_dict[\"age\"] = 31\n",
        "\n",
        "# Iterate over key-value pairs\n",
        "for key, value in my_dict.items():\n",
        "  print(f\"{key}: {value}\")"
      ],
      "cell_type": "code",
      "metadata": {
        "id": "Xx8ZEOKmsd4_"
      },
      "execution_count": null,
      "outputs": []
    },
    {
      "source": [
        "from collections import defaultdict\n",
        "\n",
        "# Create a defaultdict with default value as list\n",
        "my_defaultdict = defaultdict(list)\n",
        "\n",
        "# Add elements to a list associated with a key\n",
        "my_defaultdict[\"fruits\"].append(\"apple\")\n",
        "my_defaultdict[\"fruits\"].append(\"banana\")\n",
        "\n",
        "# Accessing a missing key creates an empty list\n",
        "print(my_defaultdict[\"vegetables\"])  # Output: []"
      ],
      "cell_type": "code",
      "metadata": {
        "id": "ggjRRnf-sec-"
      },
      "execution_count": null,
      "outputs": []
    },
    {
      "cell_type": "markdown",
      "source": [
        "# this for countion teh numbers"
      ],
      "metadata": {
        "id": "6G-UVtVzx3Ef"
      }
    },
    {
      "source": [
        "from collections import Counter\n",
        "\n",
        "# Create a Counter from a string\n",
        "my_string = \"abracadabra\"\n",
        "my_counter = Counter(my_string)\n",
        "\n",
        "# Get the count of a specific element\n",
        "print(my_counter[\"a\"])  # Output: 5\n",
        "\n",
        "# Get the most common elements\n",
        "print(my_counter.most_common(2))  # Output: [('a', 5), ('b', 2)]"
      ],
      "cell_type": "code",
      "metadata": {
        "colab": {
          "base_uri": "https://localhost:8080/"
        },
        "id": "mD0PflX2sfcI",
        "outputId": "cba79500-deed-4956-f436-297437d34d80"
      },
      "execution_count": 17,
      "outputs": [
        {
          "output_type": "stream",
          "name": "stdout",
          "text": [
            "5\n",
            "[('a', 5), ('b', 2)]\n"
          ]
        }
      ]
    },
    {
      "source": [
        "from collections import defaultdict\n",
        "\n",
        "my_string = \"abracadabra\"\n",
        "my_defaultdict = defaultdict(int)  # Default value is 0\n",
        "\n",
        "for char in my_string:\n",
        "    my_defaultdict[char] += 1\n",
        "\n",
        "print(my_defaultdict[\"a\"])  # Output: 5\n",
        "\n",
        "# Get the most common elements (similar to Counter.most_common)\n",
        "sorted_items = sorted(my_defaultdict.items(), key=lambda item: item[1], reverse=True)\n",
        "print(sorted_items[:2])  # Output: [('a', 5), ('b', 2)]"
      ],
      "cell_type": "code",
      "metadata": {
        "id": "dQeyHsfnwJhF"
      },
      "execution_count": null,
      "outputs": []
    },
    {
      "source": [
        "my_string = \"abracadabra\"\n",
        "my_dict = {}  # Regular dictionary\n",
        "\n",
        "for char in my_string:\n",
        "    my_dict[char] = my_dict.get(char, 0) + 1\n",
        "\n",
        "print(my_dict[\"a\"])  # Output: 5\n",
        "\n",
        "# Get the most common elements (similar to Counter.most_common)\n",
        "sorted_items = sorted(my_dict.items(), key=lambda item: item[1], reverse=True)\n",
        "print(sorted_items[:2])  # Output: [('a', 5), ('b', 2)]"
      ],
      "cell_type": "code",
      "metadata": {
        "id": "WQbmfwf3wKw1"
      },
      "execution_count": null,
      "outputs": []
    }
  ]
}