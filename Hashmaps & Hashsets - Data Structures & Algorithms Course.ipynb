{
 "cells": [
  {
   "cell_type": "code",
   "execution_count": 1,
   "metadata": {
    "colab": {
     "base_uri": "https://localhost:8080/"
    },
    "executionInfo": {
     "elapsed": 2,
     "status": "ok",
     "timestamp": 1719949318550,
     "user": {
      "displayName": "Greg Hogg",
      "userId": "00528211315683878441"
     },
     "user_tz": 240
    },
    "id": "xIrDzGEC9IDx",
    "outputId": "7c9ca665-8e91-4dba-ec0d-515ce78235c1"
   },
   "outputs": [
    {
     "name": "stdout",
     "output_type": "stream",
     "text": [
      "set()\n"
     ]
    }
   ],
   "source": [
    "# Hashsets\n",
    "\n",
    "s = set()\n",
    "print(s)"
   ]
  },
  {
   "cell_type": "code",
   "metadata": {
    "colab": {
     "base_uri": "https://localhost:8080/"
    },
    "executionInfo": {
     "elapsed": 155,
     "status": "ok",
     "timestamp": 1719949473266,
     "user": {
      "displayName": "Greg Hogg",
      "userId": "00528211315683878441"
     },
     "user_tz": 240
    },
    "id": "67nPv_Ka98eu",
    "outputId": "cf387f83-c0a3-4d15-82bc-d59ea56ff275",
    "ExecuteTime": {
     "end_time": "2024-10-20T11:27:07.908646Z",
     "start_time": "2024-10-20T11:27:07.260551Z"
    }
   },
   "source": [
    "# Add item into Set - O(1)\n",
    "s.add(1)\n",
    "s.add(2)\n",
    "s.add(3)\n",
    "s.add(4)\n",
    "\n",
    "print(s)"
   ],
   "outputs": [
    {
     "ename": "NameError",
     "evalue": "name 's' is not defined",
     "output_type": "error",
     "traceback": [
      "\u001B[1;31m---------------------------------------------------------------------------\u001B[0m",
      "\u001B[1;31mNameError\u001B[0m                                 Traceback (most recent call last)",
      "Cell \u001B[1;32mIn[1], line 2\u001B[0m\n\u001B[0;32m      1\u001B[0m \u001B[38;5;66;03m# Add item into Set - O(1)\u001B[39;00m\n\u001B[1;32m----> 2\u001B[0m \u001B[43ms\u001B[49m\u001B[38;5;241m.\u001B[39madd(\u001B[38;5;241m1\u001B[39m)\n\u001B[0;32m      3\u001B[0m s\u001B[38;5;241m.\u001B[39madd(\u001B[38;5;241m2\u001B[39m)\n\u001B[0;32m      4\u001B[0m s\u001B[38;5;241m.\u001B[39madd(\u001B[38;5;241m3\u001B[39m)\n",
      "\u001B[1;31mNameError\u001B[0m: name 's' is not defined"
     ]
    }
   ],
   "execution_count": 1
  },
  {
   "cell_type": "code",
   "execution_count": 4,
   "metadata": {
    "executionInfo": {
     "elapsed": 148,
     "status": "ok",
     "timestamp": 1719949432671,
     "user": {
      "displayName": "Greg Hogg",
      "userId": "00528211315683878441"
     },
     "user_tz": 240
    },
    "id": "YG4iR3ig-K5Q"
   },
   "outputs": [],
   "source": [
    "# Lookup if item in set - O(1)\n",
    "if 1 not in s:\n",
    "  print(True)"
   ]
  },
  {
   "cell_type": "code",
   "execution_count": 9,
   "metadata": {
    "colab": {
     "base_uri": "https://localhost:8080/"
    },
    "executionInfo": {
     "elapsed": 129,
     "status": "ok",
     "timestamp": 1719949523384,
     "user": {
      "displayName": "Greg Hogg",
      "userId": "00528211315683878441"
     },
     "user_tz": 240
    },
    "id": "JQSMRLA0-fEp",
    "outputId": "331abf70-aa8c-4704-a941-9a279d18239b"
   },
   "outputs": [
    {
     "name": "stdout",
     "output_type": "stream",
     "text": [
      "{1, 2}\n"
     ]
    }
   ],
   "source": [
    "# Remove item from set - O(1)\n",
    "s.remove(3)\n",
    "\n",
    "print(s)"
   ]
  },
  {
   "cell_type": "code",
   "metadata": {
    "colab": {
     "base_uri": "https://localhost:8080/"
    },
    "executionInfo": {
     "elapsed": 267,
     "status": "ok",
     "timestamp": 1719949682290,
     "user": {
      "displayName": "Greg Hogg",
      "userId": "00528211315683878441"
     },
     "user_tz": 240
    },
    "id": "RkxoAEjU-sYJ",
    "outputId": "258ff0ff-347f-428c-c5e3-c259a3b12f2e",
    "ExecuteTime": {
     "end_time": "2024-10-20T11:59:56.122735Z",
     "start_time": "2024-10-20T11:59:56.109208Z"
    }
   },
   "source": [
    "# Set construction - O(S) - S is the length of the string\n",
    "string = 'aaaaaaabbbbbbbbbbbccccccccceeeeeeeeezz'\n",
    "sett = set(string)\n",
    "\n",
    "sett"
   ],
   "outputs": [
    {
     "data": {
      "text/plain": [
       "{'a', 'b', 'c', 'e', 'z'}"
      ]
     },
     "execution_count": 10,
     "metadata": {},
     "output_type": "execute_result"
    }
   ],
   "execution_count": 10
  },
  {
   "cell_type": "code",
   "execution_count": 11,
   "metadata": {
    "colab": {
     "base_uri": "https://localhost:8080/"
    },
    "executionInfo": {
     "elapsed": 161,
     "status": "ok",
     "timestamp": 1719949788443,
     "user": {
      "displayName": "Greg Hogg",
      "userId": "00528211315683878441"
     },
     "user_tz": 240
    },
    "id": "VSOIxmqk_WTV",
    "outputId": "d6224e95-ed7f-4e86-c2fd-baf84993eea9"
   },
   "outputs": [
    {
     "name": "stdout",
     "output_type": "stream",
     "text": [
      "1\n",
      "2\n"
     ]
    }
   ],
   "source": [
    "# Loop over items in set - O(n)\n",
    "for x in s:\n",
    "  print(x)"
   ]
  },
  {
   "cell_type": "code",
   "execution_count": 12,
   "metadata": {
    "colab": {
     "base_uri": "https://localhost:8080/"
    },
    "executionInfo": {
     "elapsed": 142,
     "status": "ok",
     "timestamp": 1719949916752,
     "user": {
      "displayName": "Greg Hogg",
      "userId": "00528211315683878441"
     },
     "user_tz": 240
    },
    "id": "Qa4O32ah_wPv",
    "outputId": "316fd74f-29ee-4137-c907-7fd9967daa0e"
   },
   "outputs": [
    {
     "name": "stdout",
     "output_type": "stream",
     "text": [
      "{'greg': 1, 'steve': 2, 'rob': 3}\n"
     ]
    }
   ],
   "source": [
    "# Hashmaps - Dictionaries\n",
    "\n",
    "d = {'greg': 1, 'steve': 2, 'rob': 3}\n",
    "\n",
    "print(d)"
   ]
  },
  {
   "cell_type": "code",
   "metadata": {
    "colab": {
     "base_uri": "https://localhost:8080/"
    },
    "executionInfo": {
     "elapsed": 148,
     "status": "ok",
     "timestamp": 1719949949434,
     "user": {
      "displayName": "Greg Hogg",
      "userId": "00528211315683878441"
     },
     "user_tz": 240
    },
    "id": "Qt1ltzeMAPkz",
    "outputId": "62ca9aa4-db66-407c-ff0f-7bb034d23553",
    "ExecuteTime": {
     "end_time": "2024-10-20T12:00:03.319661Z",
     "start_time": "2024-10-20T12:00:02.821846Z"
    }
   },
   "source": [
    "# Add key:val in dictionary: O(1)\n",
    "d['arsh'] = 4\n",
    "\n",
    "print(d)"
   ],
   "outputs": [
    {
     "ename": "NameError",
     "evalue": "name 'd' is not defined",
     "output_type": "error",
     "traceback": [
      "\u001B[1;31m---------------------------------------------------------------------------\u001B[0m",
      "\u001B[1;31mNameError\u001B[0m                                 Traceback (most recent call last)",
      "Cell \u001B[1;32mIn[11], line 2\u001B[0m\n\u001B[0;32m      1\u001B[0m \u001B[38;5;66;03m# Add key:val in dictionary: O(1)\u001B[39;00m\n\u001B[1;32m----> 2\u001B[0m \u001B[43md\u001B[49m[\u001B[38;5;124m'\u001B[39m\u001B[38;5;124marsh\u001B[39m\u001B[38;5;124m'\u001B[39m] \u001B[38;5;241m=\u001B[39m \u001B[38;5;241m4\u001B[39m\n\u001B[0;32m      4\u001B[0m \u001B[38;5;28mprint\u001B[39m(d)\n",
      "\u001B[1;31mNameError\u001B[0m: name 'd' is not defined"
     ]
    }
   ],
   "execution_count": 11
  },
  {
   "cell_type": "code",
   "metadata": {
    "colab": {
     "base_uri": "https://localhost:8080/"
    },
    "executionInfo": {
     "elapsed": 156,
     "status": "ok",
     "timestamp": 1719950105438,
     "user": {
      "displayName": "Greg Hogg",
      "userId": "00528211315683878441"
     },
     "user_tz": 240
    },
    "id": "6DA5u-jKAXjh",
    "outputId": "82a57342-0a19-413a-9c51-2717bf14f0db",
    "ExecuteTime": {
     "end_time": "2024-10-20T12:00:09.689379Z",
     "start_time": "2024-10-20T12:00:09.654782Z"
    }
   },
   "source": [
    "# Check for presence of key in dictionary: O(1)\n",
    "if 'greg' in d:\n",
    "  print(True)"
   ],
   "outputs": [
    {
     "ename": "NameError",
     "evalue": "name 'd' is not defined",
     "output_type": "error",
     "traceback": [
      "\u001B[1;31m---------------------------------------------------------------------------\u001B[0m",
      "\u001B[1;31mNameError\u001B[0m                                 Traceback (most recent call last)",
      "Cell \u001B[1;32mIn[12], line 2\u001B[0m\n\u001B[0;32m      1\u001B[0m \u001B[38;5;66;03m# Check for presence of key in dictionary: O(1)\u001B[39;00m\n\u001B[1;32m----> 2\u001B[0m \u001B[38;5;28;01mif\u001B[39;00m \u001B[38;5;124m'\u001B[39m\u001B[38;5;124mgreg\u001B[39m\u001B[38;5;124m'\u001B[39m \u001B[38;5;129;01min\u001B[39;00m \u001B[43md\u001B[49m:\n\u001B[0;32m      3\u001B[0m   \u001B[38;5;28mprint\u001B[39m(\u001B[38;5;28;01mTrue\u001B[39;00m)\n",
      "\u001B[1;31mNameError\u001B[0m: name 'd' is not defined"
     ]
    }
   ],
   "execution_count": 12
  },
  {
   "cell_type": "code",
   "execution_count": 24,
   "metadata": {
    "colab": {
     "base_uri": "https://localhost:8080/"
    },
    "executionInfo": {
     "elapsed": 149,
     "status": "ok",
     "timestamp": 1719950354777,
     "user": {
      "displayName": "Greg Hogg",
      "userId": "00528211315683878441"
     },
     "user_tz": 240
    },
    "id": "c94jF_iZAfpA",
    "outputId": "e1f5d47a-6445-4ce7-e726-d679c73c5370"
   },
   "outputs": [
    {
     "name": "stdout",
     "output_type": "stream",
     "text": [
      "1\n"
     ]
    }
   ],
   "source": [
    "# Check the value corresponding to a key in the dictionary: O(1)\n",
    "print(d['greg'])"
   ]
  },
  {
   "cell_type": "code",
   "execution_count": 21,
   "metadata": {
    "colab": {
     "base_uri": "https://localhost:8080/"
    },
    "executionInfo": {
     "elapsed": 155,
     "status": "ok",
     "timestamp": 1719950191741,
     "user": {
      "displayName": "Greg Hogg",
      "userId": "00528211315683878441"
     },
     "user_tz": 240
    },
    "id": "N-X5FGK3At08",
    "outputId": "9f77df1d-1d08-4cd2-f463-757318686324"
   },
   "outputs": [
    {
     "name": "stdout",
     "output_type": "stream",
     "text": [
      "key greg: val 1\n",
      "key steve: val 2\n",
      "key rob: val 3\n",
      "key arsh: val 4\n"
     ]
    }
   ],
   "source": [
    "# Loop over the key:val pairs of the dictionary: O(n)\n",
    "for key, val in d.items():\n",
    "  print(f'key {key}: val {val}')"
   ]
  },
  {
   "cell_type": "code",
   "execution_count": 26,
   "metadata": {
    "colab": {
     "base_uri": "https://localhost:8080/"
    },
    "executionInfo": {
     "elapsed": 162,
     "status": "ok",
     "timestamp": 1719950396778,
     "user": {
      "displayName": "Greg Hogg",
      "userId": "00528211315683878441"
     },
     "user_tz": 240
    },
    "id": "b0aVRGmnBSta",
    "outputId": "314ec3aa-3135-4769-ea83-fe2af5dba355"
   },
   "outputs": [
    {
     "data": {
      "text/plain": [
       "[]"
      ]
     },
     "execution_count": 26,
     "metadata": {},
     "output_type": "execute_result"
    }
   ],
   "source": [
    "# Defaultdict\n",
    "\n",
    "from collections import defaultdict\n",
    "\n",
    "default = defaultdict(list)\n",
    "\n",
    "default[2]"
   ]
  },
  {
   "cell_type": "code",
   "execution_count": 27,
   "metadata": {
    "colab": {
     "base_uri": "https://localhost:8080/"
    },
    "executionInfo": {
     "elapsed": 2,
     "status": "ok",
     "timestamp": 1719950397649,
     "user": {
      "displayName": "Greg Hogg",
      "userId": "00528211315683878441"
     },
     "user_tz": 240
    },
    "id": "tYWsT4UBB2wX",
    "outputId": "64a00662-4c99-42b2-e419-ce5afb28806f"
   },
   "outputs": [
    {
     "data": {
      "text/plain": [
       "defaultdict(list, {2: []})"
      ]
     },
     "execution_count": 27,
     "metadata": {},
     "output_type": "execute_result"
    }
   ],
   "source": [
    "default"
   ]
  },
  {
   "cell_type": "code",
   "execution_count": 29,
   "metadata": {
    "colab": {
     "base_uri": "https://localhost:8080/"
    },
    "executionInfo": {
     "elapsed": 145,
     "status": "ok",
     "timestamp": 1719950485024,
     "user": {
      "displayName": "Greg Hogg",
      "userId": "00528211315683878441"
     },
     "user_tz": 240
    },
    "id": "p_oTXElwB89U",
    "outputId": "de692dc0-5a4a-4874-b380-9c0ab2c5ee3e"
   },
   "outputs": [
    {
     "name": "stdout",
     "output_type": "stream",
     "text": [
      "Counter({'b': 11, 'c': 9, 'e': 9, 'a': 7})\n"
     ]
    }
   ],
   "source": [
    "# Counter\n",
    "from collections import Counter\n",
    "\n",
    "counter = Counter(string)\n",
    "\n",
    "print(counter)"
   ]
  },
  {
   "cell_type": "code",
   "execution_count": null,
   "metadata": {
    "id": "YM5y0IXnCOZm"
   },
   "outputs": [],
   "source": []
  },
  {
   "metadata": {
    "ExecuteTime": {
     "end_time": "2024-10-20T12:00:43.924843Z",
     "start_time": "2024-10-20T12:00:43.905238Z"
    }
   },
   "cell_type": "code",
   "source": "x=11",
   "outputs": [
    {
     "name": "stdout",
     "output_type": "stream",
     "text": [
      "11\n"
     ]
    }
   ],
   "execution_count": 13
  },
  {
   "metadata": {
    "ExecuteTime": {
     "end_time": "2024-10-20T12:01:11.725042Z",
     "start_time": "2024-10-20T12:01:11.718797Z"
    }
   },
   "cell_type": "code",
   "source": "print(x)",
   "outputs": [
    {
     "name": "stdout",
     "output_type": "stream",
     "text": [
      "11\n"
     ]
    }
   ],
   "execution_count": 21
  },
  {
   "metadata": {},
   "cell_type": "markdown",
   "source": ""
  }
 ],
 "metadata": {
  "colab": {
   "authorship_tag": "ABX9TyN35kmgDqfRGaOv7yXy8wOh",
   "provenance": []
  },
  "kernelspec": {
   "display_name": "Python 3 (ipykernel)",
   "name": "python3",
   "language": "python"
  },
  "language_info": {
   "name": "python"
  }
 },
 "nbformat": 4,
 "nbformat_minor": 0
}
